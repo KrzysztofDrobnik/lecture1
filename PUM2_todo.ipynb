{
  "nbformat": 4,
  "nbformat_minor": 0,
  "metadata": {
    "colab": {
      "provenance": []
    },
    "kernelspec": {
      "name": "python3",
      "display_name": "Python 3"
    },
    "language_info": {
      "name": "python"
    }
  },
  "cells": [
    {
      "cell_type": "markdown",
      "source": [
        "Pobierz dane dotyczące scoringu kredytowego\n",
        "\n",
        "*Pracujesz jako analityk danych w globalnej firmie finansowej. Przez lata firma gromadziła podstawowe dane bankowe i wiele informacji związanych z kredytami. Kierownictwo chce zbudować inteligentny system do segregowania ludzi w przedziałach oceny kredytowej, aby zmniejszyć wysiłek ręczny.*\n",
        "\n",
        "**Zadanie na dziś: przygotować dane do modelu**"
      ],
      "metadata": {
        "id": "Y22vMBZYIAcJ"
      }
    },
    {
      "cell_type": "code",
      "source": [
        "#import necessary libraries\n",
        "import pandas as pd\n",
        "import numpy as np\n",
        "import matplotlib.pyplot as plt\n",
        "import seaborn as sns\n",
        "from sklearn.preprocessing import LabelEncoder\n",
        "from sklearn.preprocessing import MultiLabelBinarizer"
      ],
      "metadata": {
        "id": "GN2L8mZzLgao"
      },
      "execution_count": 89,
      "outputs": []
    },
    {
      "cell_type": "markdown",
      "source": [
        "import danych"
      ],
      "metadata": {
        "id": "GQ7bAnsLLg_X"
      }
    },
    {
      "cell_type": "code",
      "execution_count": 137,
      "metadata": {
        "id": "NJSWu_jIRZcq",
        "colab": {
          "base_uri": "https://localhost:8080/"
        },
        "outputId": "c12a7bc1-5235-4655-806f-f3ec0cfb0f51"
      },
      "outputs": [
        {
          "output_type": "stream",
          "name": "stderr",
          "text": [
            "<ipython-input-137-db52f5663265>:9: DeprecationWarning: load_dataset is deprecated and will be removed in future version.\n",
            "  df = kagglehub.load_dataset(KaggleDatasetAdapter.PANDAS, \"parisrohan/credit-score-classification\", file_path,\n"
          ]
        },
        {
          "output_type": "stream",
          "name": "stdout",
          "text": [
            "First 5 records:        ID Customer_ID     Month           Name   Age          SSN Occupation  \\\n",
            "0  0x1602   CUS_0xd40   January  Aaron Maashoh    23  821-00-0265  Scientist   \n",
            "1  0x1603   CUS_0xd40  February  Aaron Maashoh    23  821-00-0265  Scientist   \n",
            "2  0x1604   CUS_0xd40     March  Aaron Maashoh  -500  821-00-0265  Scientist   \n",
            "3  0x1605   CUS_0xd40     April  Aaron Maashoh    23  821-00-0265  Scientist   \n",
            "4  0x1606   CUS_0xd40       May  Aaron Maashoh    23  821-00-0265  Scientist   \n",
            "\n",
            "  Annual_Income  Monthly_Inhand_Salary  Num_Bank_Accounts  ...  Credit_Mix  \\\n",
            "0      19114.12            1824.843333                  3  ...           _   \n",
            "1      19114.12                    NaN                  3  ...        Good   \n",
            "2      19114.12                    NaN                  3  ...        Good   \n",
            "3      19114.12                    NaN                  3  ...        Good   \n",
            "4      19114.12            1824.843333                  3  ...        Good   \n",
            "\n",
            "   Outstanding_Debt Credit_Utilization_Ratio     Credit_History_Age  \\\n",
            "0            809.98                26.822620  22 Years and 1 Months   \n",
            "1            809.98                31.944960                    NaN   \n",
            "2            809.98                28.609352  22 Years and 3 Months   \n",
            "3            809.98                31.377862  22 Years and 4 Months   \n",
            "4            809.98                24.797347  22 Years and 5 Months   \n",
            "\n",
            "   Payment_of_Min_Amount Total_EMI_per_month Amount_invested_monthly  \\\n",
            "0                     No           49.574949       80.41529543900253   \n",
            "1                     No           49.574949      118.28022162236736   \n",
            "2                     No           49.574949         81.699521264648   \n",
            "3                     No           49.574949       199.4580743910713   \n",
            "4                     No           49.574949      41.420153086217326   \n",
            "\n",
            "                  Payment_Behaviour     Monthly_Balance Credit_Score  \n",
            "0   High_spent_Small_value_payments  312.49408867943663         Good  \n",
            "1    Low_spent_Large_value_payments  284.62916249607184         Good  \n",
            "2   Low_spent_Medium_value_payments   331.2098628537912         Good  \n",
            "3    Low_spent_Small_value_payments  223.45130972736786         Good  \n",
            "4  High_spent_Medium_value_payments  341.48923103222177         Good  \n",
            "\n",
            "[5 rows x 28 columns]\n"
          ]
        },
        {
          "output_type": "stream",
          "name": "stderr",
          "text": [
            "/usr/local/lib/python3.11/dist-packages/kagglehub/pandas_datasets.py:91: DtypeWarning: Columns (26) have mixed types. Specify dtype option on import or set low_memory=False.\n",
            "  result = read_function(\n"
          ]
        }
      ],
      "source": [
        "# pip install kagglehub[pandas-datasets]\n",
        "import kagglehub\n",
        "from kagglehub import KaggleDatasetAdapter\n",
        "\n",
        "# Set the path to the file you'd like to load\n",
        "file_path = \"train.csv\"\n",
        "\n",
        "# Load the latest version\n",
        "df = kagglehub.load_dataset(KaggleDatasetAdapter.PANDAS, \"parisrohan/credit-score-classification\", file_path,\n",
        ")\n",
        "\n",
        "print(\"First 5 records:\", df.head())"
      ]
    },
    {
      "cell_type": "markdown",
      "source": [
        "**Poznaj dane:**\n",
        "\n",
        "1.   sprawdź wymiary i typy kolumn\n",
        "2.   usuń duplikaty\n",
        "3.   usuń zdbędne kolumny\n",
        "4.   sprawdz liczbę braków danych w poszczególnych kolumnach\n",
        "\n",
        "\n",
        "\n",
        "\n"
      ],
      "metadata": {
        "id": "dpBXHVnkIaSl"
      }
    },
    {
      "cell_type": "code",
      "source": [
        "# 1 - sprawdzanie wymiarów i typów kolumn\n",
        "wiersze, kolumny = df.shape\n",
        "print(f\"Wiersze: {wiersze}\\nKolumny {kolumny}\")\n",
        "\n",
        "df.info()"
      ],
      "metadata": {
        "id": "Hbjbg0-mk9zP",
        "colab": {
          "base_uri": "https://localhost:8080/"
        },
        "outputId": "d0529950-75f6-41f1-f2c7-8fcc42f878b9"
      },
      "execution_count": 138,
      "outputs": [
        {
          "output_type": "stream",
          "name": "stdout",
          "text": [
            "Wiersze: 100000\n",
            "Kolumny 28\n",
            "<class 'pandas.core.frame.DataFrame'>\n",
            "RangeIndex: 100000 entries, 0 to 99999\n",
            "Data columns (total 28 columns):\n",
            " #   Column                    Non-Null Count   Dtype  \n",
            "---  ------                    --------------   -----  \n",
            " 0   ID                        100000 non-null  object \n",
            " 1   Customer_ID               100000 non-null  object \n",
            " 2   Month                     100000 non-null  object \n",
            " 3   Name                      90015 non-null   object \n",
            " 4   Age                       100000 non-null  object \n",
            " 5   SSN                       100000 non-null  object \n",
            " 6   Occupation                100000 non-null  object \n",
            " 7   Annual_Income             100000 non-null  object \n",
            " 8   Monthly_Inhand_Salary     84998 non-null   float64\n",
            " 9   Num_Bank_Accounts         100000 non-null  int64  \n",
            " 10  Num_Credit_Card           100000 non-null  int64  \n",
            " 11  Interest_Rate             100000 non-null  int64  \n",
            " 12  Num_of_Loan               100000 non-null  object \n",
            " 13  Type_of_Loan              88592 non-null   object \n",
            " 14  Delay_from_due_date       100000 non-null  int64  \n",
            " 15  Num_of_Delayed_Payment    92998 non-null   object \n",
            " 16  Changed_Credit_Limit      100000 non-null  object \n",
            " 17  Num_Credit_Inquiries      98035 non-null   float64\n",
            " 18  Credit_Mix                100000 non-null  object \n",
            " 19  Outstanding_Debt          100000 non-null  object \n",
            " 20  Credit_Utilization_Ratio  100000 non-null  float64\n",
            " 21  Credit_History_Age        90970 non-null   object \n",
            " 22  Payment_of_Min_Amount     100000 non-null  object \n",
            " 23  Total_EMI_per_month       100000 non-null  float64\n",
            " 24  Amount_invested_monthly   95521 non-null   object \n",
            " 25  Payment_Behaviour         100000 non-null  object \n",
            " 26  Monthly_Balance           98800 non-null   object \n",
            " 27  Credit_Score              100000 non-null  object \n",
            "dtypes: float64(4), int64(4), object(20)\n",
            "memory usage: 21.4+ MB\n"
          ]
        }
      ]
    },
    {
      "cell_type": "code",
      "source": [
        "# 2 -usuwanie duplikatów\n",
        "df = df.drop_duplicates()\n",
        "\n",
        "df.info()"
      ],
      "metadata": {
        "colab": {
          "base_uri": "https://localhost:8080/"
        },
        "id": "EpWCBUyWLEkF",
        "outputId": "41e630ec-b303-4351-f1ea-c84ae5009b81"
      },
      "execution_count": 139,
      "outputs": [
        {
          "output_type": "stream",
          "name": "stdout",
          "text": [
            "<class 'pandas.core.frame.DataFrame'>\n",
            "RangeIndex: 100000 entries, 0 to 99999\n",
            "Data columns (total 28 columns):\n",
            " #   Column                    Non-Null Count   Dtype  \n",
            "---  ------                    --------------   -----  \n",
            " 0   ID                        100000 non-null  object \n",
            " 1   Customer_ID               100000 non-null  object \n",
            " 2   Month                     100000 non-null  object \n",
            " 3   Name                      90015 non-null   object \n",
            " 4   Age                       100000 non-null  object \n",
            " 5   SSN                       100000 non-null  object \n",
            " 6   Occupation                100000 non-null  object \n",
            " 7   Annual_Income             100000 non-null  object \n",
            " 8   Monthly_Inhand_Salary     84998 non-null   float64\n",
            " 9   Num_Bank_Accounts         100000 non-null  int64  \n",
            " 10  Num_Credit_Card           100000 non-null  int64  \n",
            " 11  Interest_Rate             100000 non-null  int64  \n",
            " 12  Num_of_Loan               100000 non-null  object \n",
            " 13  Type_of_Loan              88592 non-null   object \n",
            " 14  Delay_from_due_date       100000 non-null  int64  \n",
            " 15  Num_of_Delayed_Payment    92998 non-null   object \n",
            " 16  Changed_Credit_Limit      100000 non-null  object \n",
            " 17  Num_Credit_Inquiries      98035 non-null   float64\n",
            " 18  Credit_Mix                100000 non-null  object \n",
            " 19  Outstanding_Debt          100000 non-null  object \n",
            " 20  Credit_Utilization_Ratio  100000 non-null  float64\n",
            " 21  Credit_History_Age        90970 non-null   object \n",
            " 22  Payment_of_Min_Amount     100000 non-null  object \n",
            " 23  Total_EMI_per_month       100000 non-null  float64\n",
            " 24  Amount_invested_monthly   95521 non-null   object \n",
            " 25  Payment_Behaviour         100000 non-null  object \n",
            " 26  Monthly_Balance           98800 non-null   object \n",
            " 27  Credit_Score              100000 non-null  object \n",
            "dtypes: float64(4), int64(4), object(20)\n",
            "memory usage: 21.4+ MB\n"
          ]
        }
      ]
    },
    {
      "cell_type": "markdown",
      "source": [
        "Usuń kolumny, które nie będą wykorzystywane w analizie ['ID','Customer_ID','SSN','Name']"
      ],
      "metadata": {
        "id": "NZBCT7FgiS03"
      }
    },
    {
      "cell_type": "code",
      "source": [
        "# 3 - usuwanie zbędnych kolumn\n",
        "df = df.drop(columns = ['ID','Customer_ID','SSN','Name'])\n",
        "\n",
        "df.info()"
      ],
      "metadata": {
        "id": "EOrkOWizk_eR",
        "colab": {
          "base_uri": "https://localhost:8080/"
        },
        "outputId": "bca6de5d-9639-4017-ac45-983841165b01"
      },
      "execution_count": 140,
      "outputs": [
        {
          "output_type": "stream",
          "name": "stdout",
          "text": [
            "<class 'pandas.core.frame.DataFrame'>\n",
            "RangeIndex: 100000 entries, 0 to 99999\n",
            "Data columns (total 24 columns):\n",
            " #   Column                    Non-Null Count   Dtype  \n",
            "---  ------                    --------------   -----  \n",
            " 0   Month                     100000 non-null  object \n",
            " 1   Age                       100000 non-null  object \n",
            " 2   Occupation                100000 non-null  object \n",
            " 3   Annual_Income             100000 non-null  object \n",
            " 4   Monthly_Inhand_Salary     84998 non-null   float64\n",
            " 5   Num_Bank_Accounts         100000 non-null  int64  \n",
            " 6   Num_Credit_Card           100000 non-null  int64  \n",
            " 7   Interest_Rate             100000 non-null  int64  \n",
            " 8   Num_of_Loan               100000 non-null  object \n",
            " 9   Type_of_Loan              88592 non-null   object \n",
            " 10  Delay_from_due_date       100000 non-null  int64  \n",
            " 11  Num_of_Delayed_Payment    92998 non-null   object \n",
            " 12  Changed_Credit_Limit      100000 non-null  object \n",
            " 13  Num_Credit_Inquiries      98035 non-null   float64\n",
            " 14  Credit_Mix                100000 non-null  object \n",
            " 15  Outstanding_Debt          100000 non-null  object \n",
            " 16  Credit_Utilization_Ratio  100000 non-null  float64\n",
            " 17  Credit_History_Age        90970 non-null   object \n",
            " 18  Payment_of_Min_Amount     100000 non-null  object \n",
            " 19  Total_EMI_per_month       100000 non-null  float64\n",
            " 20  Amount_invested_monthly   95521 non-null   object \n",
            " 21  Payment_Behaviour         100000 non-null  object \n",
            " 22  Monthly_Balance           98800 non-null   object \n",
            " 23  Credit_Score              100000 non-null  object \n",
            "dtypes: float64(4), int64(4), object(16)\n",
            "memory usage: 18.3+ MB\n"
          ]
        }
      ]
    },
    {
      "cell_type": "code",
      "source": [
        "df['Credit_History_Age']"
      ],
      "metadata": {
        "colab": {
          "base_uri": "https://localhost:8080/",
          "height": 458
        },
        "id": "_tCbwfIbC0ya",
        "outputId": "4ad61bfa-f59e-4c78-ce1d-b1864ecf5d97"
      },
      "execution_count": 141,
      "outputs": [
        {
          "output_type": "execute_result",
          "data": {
            "text/plain": [
              "0         22 Years and 1 Months\n",
              "1                           NaN\n",
              "2         22 Years and 3 Months\n",
              "3         22 Years and 4 Months\n",
              "4         22 Years and 5 Months\n",
              "                  ...          \n",
              "99995     31 Years and 6 Months\n",
              "99996     31 Years and 7 Months\n",
              "99997     31 Years and 8 Months\n",
              "99998     31 Years and 9 Months\n",
              "99999    31 Years and 10 Months\n",
              "Name: Credit_History_Age, Length: 100000, dtype: object"
            ],
            "text/html": [
              "<div>\n",
              "<style scoped>\n",
              "    .dataframe tbody tr th:only-of-type {\n",
              "        vertical-align: middle;\n",
              "    }\n",
              "\n",
              "    .dataframe tbody tr th {\n",
              "        vertical-align: top;\n",
              "    }\n",
              "\n",
              "    .dataframe thead th {\n",
              "        text-align: right;\n",
              "    }\n",
              "</style>\n",
              "<table border=\"1\" class=\"dataframe\">\n",
              "  <thead>\n",
              "    <tr style=\"text-align: right;\">\n",
              "      <th></th>\n",
              "      <th>Credit_History_Age</th>\n",
              "    </tr>\n",
              "  </thead>\n",
              "  <tbody>\n",
              "    <tr>\n",
              "      <th>0</th>\n",
              "      <td>22 Years and 1 Months</td>\n",
              "    </tr>\n",
              "    <tr>\n",
              "      <th>1</th>\n",
              "      <td>NaN</td>\n",
              "    </tr>\n",
              "    <tr>\n",
              "      <th>2</th>\n",
              "      <td>22 Years and 3 Months</td>\n",
              "    </tr>\n",
              "    <tr>\n",
              "      <th>3</th>\n",
              "      <td>22 Years and 4 Months</td>\n",
              "    </tr>\n",
              "    <tr>\n",
              "      <th>4</th>\n",
              "      <td>22 Years and 5 Months</td>\n",
              "    </tr>\n",
              "    <tr>\n",
              "      <th>...</th>\n",
              "      <td>...</td>\n",
              "    </tr>\n",
              "    <tr>\n",
              "      <th>99995</th>\n",
              "      <td>31 Years and 6 Months</td>\n",
              "    </tr>\n",
              "    <tr>\n",
              "      <th>99996</th>\n",
              "      <td>31 Years and 7 Months</td>\n",
              "    </tr>\n",
              "    <tr>\n",
              "      <th>99997</th>\n",
              "      <td>31 Years and 8 Months</td>\n",
              "    </tr>\n",
              "    <tr>\n",
              "      <th>99998</th>\n",
              "      <td>31 Years and 9 Months</td>\n",
              "    </tr>\n",
              "    <tr>\n",
              "      <th>99999</th>\n",
              "      <td>31 Years and 10 Months</td>\n",
              "    </tr>\n",
              "  </tbody>\n",
              "</table>\n",
              "<p>100000 rows × 1 columns</p>\n",
              "</div><br><label><b>dtype:</b> object</label>"
            ]
          },
          "metadata": {},
          "execution_count": 141
        }
      ]
    },
    {
      "cell_type": "markdown",
      "source": [
        "usuń niektore z zbędnych znakow ('_','-'), zmień puste komorki na nan\n",
        "\n",
        "\n",
        "\n"
      ],
      "metadata": {
        "id": "yFjng3YXNFyk"
      }
    },
    {
      "cell_type": "code",
      "source": [
        "for element in df.columns:\n",
        "  df[element] = df[element].astype(str)\n",
        "  df[element] = df[element].str.replace('-', '')\n",
        "  df[element] = df[element].str.replace('_', '')\n",
        "  df[element] = df[element].replace('', np.nan)\n",
        "  df[element] = df[element].replace('nan', np.nan)\n",
        "\n",
        "df.info()"
      ],
      "metadata": {
        "id": "2G0a50DHlGvX",
        "colab": {
          "base_uri": "https://localhost:8080/"
        },
        "outputId": "415014ad-688e-4555-e2ec-58ebe898eb39"
      },
      "execution_count": 142,
      "outputs": [
        {
          "output_type": "stream",
          "name": "stdout",
          "text": [
            "<class 'pandas.core.frame.DataFrame'>\n",
            "RangeIndex: 100000 entries, 0 to 99999\n",
            "Data columns (total 24 columns):\n",
            " #   Column                    Non-Null Count   Dtype \n",
            "---  ------                    --------------   ----- \n",
            " 0   Month                     100000 non-null  object\n",
            " 1   Age                       100000 non-null  object\n",
            " 2   Occupation                92938 non-null   object\n",
            " 3   Annual_Income             100000 non-null  object\n",
            " 4   Monthly_Inhand_Salary     84998 non-null   object\n",
            " 5   Num_Bank_Accounts         100000 non-null  object\n",
            " 6   Num_Credit_Card           100000 non-null  object\n",
            " 7   Interest_Rate             100000 non-null  object\n",
            " 8   Num_of_Loan               100000 non-null  object\n",
            " 9   Type_of_Loan              88592 non-null   object\n",
            " 10  Delay_from_due_date       100000 non-null  object\n",
            " 11  Num_of_Delayed_Payment    92998 non-null   object\n",
            " 12  Changed_Credit_Limit      97909 non-null   object\n",
            " 13  Num_Credit_Inquiries      98035 non-null   object\n",
            " 14  Credit_Mix                79805 non-null   object\n",
            " 15  Outstanding_Debt          100000 non-null  object\n",
            " 16  Credit_Utilization_Ratio  100000 non-null  object\n",
            " 17  Credit_History_Age        90970 non-null   object\n",
            " 18  Payment_of_Min_Amount     100000 non-null  object\n",
            " 19  Total_EMI_per_month       100000 non-null  object\n",
            " 20  Amount_invested_monthly   95521 non-null   object\n",
            " 21  Payment_Behaviour         100000 non-null  object\n",
            " 22  Monthly_Balance           98800 non-null   object\n",
            " 23  Credit_Score              100000 non-null  object\n",
            "dtypes: object(24)\n",
            "memory usage: 18.3+ MB\n"
          ]
        }
      ]
    },
    {
      "cell_type": "code",
      "source": [
        "df['Month']"
      ],
      "metadata": {
        "colab": {
          "base_uri": "https://localhost:8080/",
          "height": 458
        },
        "id": "71Qd-5AjR6Ic",
        "outputId": "067d2a34-151a-4500-b07a-696441c0f79d"
      },
      "execution_count": 143,
      "outputs": [
        {
          "output_type": "execute_result",
          "data": {
            "text/plain": [
              "0         January\n",
              "1        February\n",
              "2           March\n",
              "3           April\n",
              "4             May\n",
              "           ...   \n",
              "99995       April\n",
              "99996         May\n",
              "99997        June\n",
              "99998        July\n",
              "99999      August\n",
              "Name: Month, Length: 100000, dtype: object"
            ],
            "text/html": [
              "<div>\n",
              "<style scoped>\n",
              "    .dataframe tbody tr th:only-of-type {\n",
              "        vertical-align: middle;\n",
              "    }\n",
              "\n",
              "    .dataframe tbody tr th {\n",
              "        vertical-align: top;\n",
              "    }\n",
              "\n",
              "    .dataframe thead th {\n",
              "        text-align: right;\n",
              "    }\n",
              "</style>\n",
              "<table border=\"1\" class=\"dataframe\">\n",
              "  <thead>\n",
              "    <tr style=\"text-align: right;\">\n",
              "      <th></th>\n",
              "      <th>Month</th>\n",
              "    </tr>\n",
              "  </thead>\n",
              "  <tbody>\n",
              "    <tr>\n",
              "      <th>0</th>\n",
              "      <td>January</td>\n",
              "    </tr>\n",
              "    <tr>\n",
              "      <th>1</th>\n",
              "      <td>February</td>\n",
              "    </tr>\n",
              "    <tr>\n",
              "      <th>2</th>\n",
              "      <td>March</td>\n",
              "    </tr>\n",
              "    <tr>\n",
              "      <th>3</th>\n",
              "      <td>April</td>\n",
              "    </tr>\n",
              "    <tr>\n",
              "      <th>4</th>\n",
              "      <td>May</td>\n",
              "    </tr>\n",
              "    <tr>\n",
              "      <th>...</th>\n",
              "      <td>...</td>\n",
              "    </tr>\n",
              "    <tr>\n",
              "      <th>99995</th>\n",
              "      <td>April</td>\n",
              "    </tr>\n",
              "    <tr>\n",
              "      <th>99996</th>\n",
              "      <td>May</td>\n",
              "    </tr>\n",
              "    <tr>\n",
              "      <th>99997</th>\n",
              "      <td>June</td>\n",
              "    </tr>\n",
              "    <tr>\n",
              "      <th>99998</th>\n",
              "      <td>July</td>\n",
              "    </tr>\n",
              "    <tr>\n",
              "      <th>99999</th>\n",
              "      <td>August</td>\n",
              "    </tr>\n",
              "  </tbody>\n",
              "</table>\n",
              "<p>100000 rows × 1 columns</p>\n",
              "</div><br><label><b>dtype:</b> object</label>"
            ]
          },
          "metadata": {},
          "execution_count": 143
        }
      ]
    },
    {
      "cell_type": "markdown",
      "source": [
        "Zmień nazwy miesiecy na zmienne liczbowe zgodnie z kolejnością miesięcy"
      ],
      "metadata": {
        "id": "s6WEtmF-lHND"
      }
    },
    {
      "cell_type": "code",
      "source": [
        "month_mapping = {\n",
        "    \"January\": 1, \"February\": 2, \"March\": 3, \"April\": 4, \"May\": 5, \"June\": 6,\n",
        "    \"July\": 7, \"August\": 8, \"September\": 9, \"October\": 10, \"November\": 11, \"December\": 12\n",
        "}\n",
        "\n",
        "df['Month'] = df[\"Month\"].map(month_mapping)\n",
        "\n",
        "df[\"Month\"]"
      ],
      "metadata": {
        "id": "vr6s99B1YMHC",
        "colab": {
          "base_uri": "https://localhost:8080/",
          "height": 458
        },
        "outputId": "8d648923-80d1-4a0f-99af-1016e4c116dc"
      },
      "execution_count": 144,
      "outputs": [
        {
          "output_type": "execute_result",
          "data": {
            "text/plain": [
              "0        1\n",
              "1        2\n",
              "2        3\n",
              "3        4\n",
              "4        5\n",
              "        ..\n",
              "99995    4\n",
              "99996    5\n",
              "99997    6\n",
              "99998    7\n",
              "99999    8\n",
              "Name: Month, Length: 100000, dtype: int64"
            ],
            "text/html": [
              "<div>\n",
              "<style scoped>\n",
              "    .dataframe tbody tr th:only-of-type {\n",
              "        vertical-align: middle;\n",
              "    }\n",
              "\n",
              "    .dataframe tbody tr th {\n",
              "        vertical-align: top;\n",
              "    }\n",
              "\n",
              "    .dataframe thead th {\n",
              "        text-align: right;\n",
              "    }\n",
              "</style>\n",
              "<table border=\"1\" class=\"dataframe\">\n",
              "  <thead>\n",
              "    <tr style=\"text-align: right;\">\n",
              "      <th></th>\n",
              "      <th>Month</th>\n",
              "    </tr>\n",
              "  </thead>\n",
              "  <tbody>\n",
              "    <tr>\n",
              "      <th>0</th>\n",
              "      <td>1</td>\n",
              "    </tr>\n",
              "    <tr>\n",
              "      <th>1</th>\n",
              "      <td>2</td>\n",
              "    </tr>\n",
              "    <tr>\n",
              "      <th>2</th>\n",
              "      <td>3</td>\n",
              "    </tr>\n",
              "    <tr>\n",
              "      <th>3</th>\n",
              "      <td>4</td>\n",
              "    </tr>\n",
              "    <tr>\n",
              "      <th>4</th>\n",
              "      <td>5</td>\n",
              "    </tr>\n",
              "    <tr>\n",
              "      <th>...</th>\n",
              "      <td>...</td>\n",
              "    </tr>\n",
              "    <tr>\n",
              "      <th>99995</th>\n",
              "      <td>4</td>\n",
              "    </tr>\n",
              "    <tr>\n",
              "      <th>99996</th>\n",
              "      <td>5</td>\n",
              "    </tr>\n",
              "    <tr>\n",
              "      <th>99997</th>\n",
              "      <td>6</td>\n",
              "    </tr>\n",
              "    <tr>\n",
              "      <th>99998</th>\n",
              "      <td>7</td>\n",
              "    </tr>\n",
              "    <tr>\n",
              "      <th>99999</th>\n",
              "      <td>8</td>\n",
              "    </tr>\n",
              "  </tbody>\n",
              "</table>\n",
              "<p>100000 rows × 1 columns</p>\n",
              "</div><br><label><b>dtype:</b> int64</label>"
            ]
          },
          "metadata": {},
          "execution_count": 144
        }
      ]
    },
    {
      "cell_type": "markdown",
      "source": [
        "Zakoduj zmienne tekstowe: 'Occupation', 'Type_of_Loan', 'Payment_Behaviour', 'Credit_Mix', użyj LabelEncodera"
      ],
      "metadata": {
        "id": "wHYhUCgNNeR_"
      }
    },
    {
      "cell_type": "code",
      "source": [
        "le = LabelEncoder()\n",
        "df['Occupation'] = le.fit_transform(df['Occupation'])\n",
        "df['Payment_Behaviour'] = le.fit_transform(df['Payment_Behaviour'])\n",
        "df['Credit_Mix'] = le.fit_transform(df['Credit_Mix'])\n",
        "\n",
        "df.info()"
      ],
      "metadata": {
        "id": "AeCEzmvZlebi",
        "colab": {
          "base_uri": "https://localhost:8080/"
        },
        "outputId": "49718a7b-7589-4745-eb4d-1b92ee434d17"
      },
      "execution_count": 145,
      "outputs": [
        {
          "output_type": "stream",
          "name": "stdout",
          "text": [
            "<class 'pandas.core.frame.DataFrame'>\n",
            "RangeIndex: 100000 entries, 0 to 99999\n",
            "Data columns (total 24 columns):\n",
            " #   Column                    Non-Null Count   Dtype \n",
            "---  ------                    --------------   ----- \n",
            " 0   Month                     100000 non-null  int64 \n",
            " 1   Age                       100000 non-null  object\n",
            " 2   Occupation                100000 non-null  int64 \n",
            " 3   Annual_Income             100000 non-null  object\n",
            " 4   Monthly_Inhand_Salary     84998 non-null   object\n",
            " 5   Num_Bank_Accounts         100000 non-null  object\n",
            " 6   Num_Credit_Card           100000 non-null  object\n",
            " 7   Interest_Rate             100000 non-null  object\n",
            " 8   Num_of_Loan               100000 non-null  object\n",
            " 9   Type_of_Loan              88592 non-null   object\n",
            " 10  Delay_from_due_date       100000 non-null  object\n",
            " 11  Num_of_Delayed_Payment    92998 non-null   object\n",
            " 12  Changed_Credit_Limit      97909 non-null   object\n",
            " 13  Num_Credit_Inquiries      98035 non-null   object\n",
            " 14  Credit_Mix                100000 non-null  int64 \n",
            " 15  Outstanding_Debt          100000 non-null  object\n",
            " 16  Credit_Utilization_Ratio  100000 non-null  object\n",
            " 17  Credit_History_Age        90970 non-null   object\n",
            " 18  Payment_of_Min_Amount     100000 non-null  object\n",
            " 19  Total_EMI_per_month       100000 non-null  object\n",
            " 20  Amount_invested_monthly   95521 non-null   object\n",
            " 21  Payment_Behaviour         100000 non-null  int64 \n",
            " 22  Monthly_Balance           98800 non-null   object\n",
            " 23  Credit_Score              100000 non-null  object\n",
            "dtypes: int64(4), object(20)\n",
            "memory usage: 18.3+ MB\n"
          ]
        }
      ]
    },
    {
      "cell_type": "markdown",
      "source": [
        "Przelicz kolumne Credit_History_Age na liczbę mięsiecy\n",
        "\n",
        "\n",
        "\n",
        "\n",
        "\n",
        "\n"
      ],
      "metadata": {
        "id": "f9-rD3Yklibx"
      }
    },
    {
      "cell_type": "code",
      "source": [
        "df['Credit_History_Age']\n",
        "\n",
        "def convert(data):\n",
        "  if pd.isna(data):\n",
        "    return data\n",
        "  data_split = data.split(' ')\n",
        "  years = int(data_split[0])\n",
        "  months = int(data_split[3])\n",
        "  return_value = years*12 + months\n",
        "  return return_value\n",
        "\n",
        "df['Credit_History_Age'] = df['Credit_History_Age'].apply(convert)\n",
        "\n",
        "df['Credit_History_Age']\n",
        "\n"
      ],
      "metadata": {
        "id": "dQtgMu49ljHx",
        "colab": {
          "base_uri": "https://localhost:8080/",
          "height": 458
        },
        "outputId": "db6b7296-f50f-4640-b778-93b0f9fa053a"
      },
      "execution_count": 147,
      "outputs": [
        {
          "output_type": "execute_result",
          "data": {
            "text/plain": [
              "0        265.0\n",
              "1          NaN\n",
              "2        267.0\n",
              "3        268.0\n",
              "4        269.0\n",
              "         ...  \n",
              "99995    378.0\n",
              "99996    379.0\n",
              "99997    380.0\n",
              "99998    381.0\n",
              "99999    382.0\n",
              "Name: Credit_History_Age, Length: 100000, dtype: float64"
            ],
            "text/html": [
              "<div>\n",
              "<style scoped>\n",
              "    .dataframe tbody tr th:only-of-type {\n",
              "        vertical-align: middle;\n",
              "    }\n",
              "\n",
              "    .dataframe tbody tr th {\n",
              "        vertical-align: top;\n",
              "    }\n",
              "\n",
              "    .dataframe thead th {\n",
              "        text-align: right;\n",
              "    }\n",
              "</style>\n",
              "<table border=\"1\" class=\"dataframe\">\n",
              "  <thead>\n",
              "    <tr style=\"text-align: right;\">\n",
              "      <th></th>\n",
              "      <th>Credit_History_Age</th>\n",
              "    </tr>\n",
              "  </thead>\n",
              "  <tbody>\n",
              "    <tr>\n",
              "      <th>0</th>\n",
              "      <td>265.0</td>\n",
              "    </tr>\n",
              "    <tr>\n",
              "      <th>1</th>\n",
              "      <td>NaN</td>\n",
              "    </tr>\n",
              "    <tr>\n",
              "      <th>2</th>\n",
              "      <td>267.0</td>\n",
              "    </tr>\n",
              "    <tr>\n",
              "      <th>3</th>\n",
              "      <td>268.0</td>\n",
              "    </tr>\n",
              "    <tr>\n",
              "      <th>4</th>\n",
              "      <td>269.0</td>\n",
              "    </tr>\n",
              "    <tr>\n",
              "      <th>...</th>\n",
              "      <td>...</td>\n",
              "    </tr>\n",
              "    <tr>\n",
              "      <th>99995</th>\n",
              "      <td>378.0</td>\n",
              "    </tr>\n",
              "    <tr>\n",
              "      <th>99996</th>\n",
              "      <td>379.0</td>\n",
              "    </tr>\n",
              "    <tr>\n",
              "      <th>99997</th>\n",
              "      <td>380.0</td>\n",
              "    </tr>\n",
              "    <tr>\n",
              "      <th>99998</th>\n",
              "      <td>381.0</td>\n",
              "    </tr>\n",
              "    <tr>\n",
              "      <th>99999</th>\n",
              "      <td>382.0</td>\n",
              "    </tr>\n",
              "  </tbody>\n",
              "</table>\n",
              "<p>100000 rows × 1 columns</p>\n",
              "</div><br><label><b>dtype:</b> float64</label>"
            ]
          },
          "metadata": {},
          "execution_count": 147
        }
      ]
    },
    {
      "cell_type": "code",
      "source": [
        "df.info()"
      ],
      "metadata": {
        "colab": {
          "base_uri": "https://localhost:8080/"
        },
        "id": "sWdxQAFx2vu0",
        "outputId": "4bf148fe-97b5-4fac-b591-0bf82d85eaa5"
      },
      "execution_count": 148,
      "outputs": [
        {
          "output_type": "stream",
          "name": "stdout",
          "text": [
            "<class 'pandas.core.frame.DataFrame'>\n",
            "RangeIndex: 100000 entries, 0 to 99999\n",
            "Data columns (total 24 columns):\n",
            " #   Column                    Non-Null Count   Dtype  \n",
            "---  ------                    --------------   -----  \n",
            " 0   Month                     100000 non-null  int64  \n",
            " 1   Age                       100000 non-null  object \n",
            " 2   Occupation                100000 non-null  int64  \n",
            " 3   Annual_Income             100000 non-null  object \n",
            " 4   Monthly_Inhand_Salary     84998 non-null   object \n",
            " 5   Num_Bank_Accounts         100000 non-null  object \n",
            " 6   Num_Credit_Card           100000 non-null  object \n",
            " 7   Interest_Rate             100000 non-null  object \n",
            " 8   Num_of_Loan               100000 non-null  object \n",
            " 9   Type_of_Loan              88592 non-null   object \n",
            " 10  Delay_from_due_date       100000 non-null  object \n",
            " 11  Num_of_Delayed_Payment    92998 non-null   object \n",
            " 12  Changed_Credit_Limit      97909 non-null   object \n",
            " 13  Num_Credit_Inquiries      98035 non-null   object \n",
            " 14  Credit_Mix                100000 non-null  int64  \n",
            " 15  Outstanding_Debt          100000 non-null  object \n",
            " 16  Credit_Utilization_Ratio  100000 non-null  object \n",
            " 17  Credit_History_Age        90970 non-null   float64\n",
            " 18  Payment_of_Min_Amount     100000 non-null  object \n",
            " 19  Total_EMI_per_month       100000 non-null  object \n",
            " 20  Amount_invested_monthly   95521 non-null   object \n",
            " 21  Payment_Behaviour         100000 non-null  int64  \n",
            " 22  Monthly_Balance           98800 non-null   object \n",
            " 23  Credit_Score              100000 non-null  object \n",
            "dtypes: float64(1), int64(4), object(19)\n",
            "memory usage: 18.3+ MB\n"
          ]
        }
      ]
    },
    {
      "cell_type": "code",
      "source": [
        "# Oczyszczanie pola Type_of_Loan\n",
        "df['Type_of_Loan'] = df['Type_of_Loan'].fillna('')\n",
        "df['Type_of_Loan'] = df['Type_of_Loan'].str.replace(r'\\band\\b', '', regex=True).str.strip() #removes \"and\"\n",
        "\n",
        "# Split and clean the values\n",
        "df_type_of_loan = df['Type_of_Loan'].str.split(r',\\s*')  # Handles different spacing\n",
        "\n",
        "# Use MultiLabelBinarizer\n",
        "mlb = MultiLabelBinarizer()\n",
        "dt = mlb.fit_transform(df_type_of_loan.to_list())  # Ensure correct format\n",
        "\n",
        "# Convert to DataFrame\n",
        "encoded_df = pd.DataFrame(data=dt, columns=mlb.classes_)\n",
        "\n",
        "# Merge with original DataFrame and drop old column\n",
        "df = df.join(encoded_df).drop(columns=['Type_of_Loan'])\n",
        "\n",
        "print(df.head())"
      ],
      "metadata": {
        "id": "V5kZULgXV9jE",
        "colab": {
          "base_uri": "https://localhost:8080/"
        },
        "outputId": "c4a2d40d-c405-4a4f-ebab-6ee31f5835ba"
      },
      "execution_count": 149,
      "outputs": [
        {
          "output_type": "stream",
          "name": "stdout",
          "text": [
            "   Month  Age  Occupation Annual_Income Monthly_Inhand_Salary  \\\n",
            "0      1   23          12      19114.12    1824.8433333333328   \n",
            "1      2   23          12      19114.12                   NaN   \n",
            "2      3  500          12      19114.12                   NaN   \n",
            "3      4   23          12      19114.12                   NaN   \n",
            "4      5   23          12      19114.12    1824.8433333333328   \n",
            "\n",
            "  Num_Bank_Accounts Num_Credit_Card Interest_Rate Num_of_Loan  \\\n",
            "0                 3               4             3           4   \n",
            "1                 3               4             3           4   \n",
            "2                 3               4             3           4   \n",
            "3                 3               4             3           4   \n",
            "4                 3               4             3           4   \n",
            "\n",
            "  Delay_from_due_date  ...    Auto Loan CreditBuilder Loan  \\\n",
            "0                   3  ...  0         1                  1   \n",
            "1                   1  ...  0         1                  1   \n",
            "2                   3  ...  0         1                  1   \n",
            "3                   5  ...  0         1                  1   \n",
            "4                   6  ...  0         1                  1   \n",
            "\n",
            "   Debt Consolidation Loan Home Equity Loan Mortgage Loan  Not Specified  \\\n",
            "0                        0                1             0              0   \n",
            "1                        0                1             0              0   \n",
            "2                        0                1             0              0   \n",
            "3                        0                1             0              0   \n",
            "4                        0                1             0              0   \n",
            "\n",
            "  Payday Loan Personal Loan Student Loan  \n",
            "0           0             1            0  \n",
            "1           0             1            0  \n",
            "2           0             1            0  \n",
            "3           0             1            0  \n",
            "4           0             1            0  \n",
            "\n",
            "[5 rows x 33 columns]\n"
          ]
        }
      ]
    },
    {
      "cell_type": "code",
      "source": [
        "df.info()"
      ],
      "metadata": {
        "colab": {
          "base_uri": "https://localhost:8080/"
        },
        "id": "7qvq2lvw3e8b",
        "outputId": "f18a90a8-b566-425b-86e9-030e391965e3"
      },
      "execution_count": 150,
      "outputs": [
        {
          "output_type": "stream",
          "name": "stdout",
          "text": [
            "<class 'pandas.core.frame.DataFrame'>\n",
            "RangeIndex: 100000 entries, 0 to 99999\n",
            "Data columns (total 33 columns):\n",
            " #   Column                    Non-Null Count   Dtype  \n",
            "---  ------                    --------------   -----  \n",
            " 0   Month                     100000 non-null  int64  \n",
            " 1   Age                       100000 non-null  object \n",
            " 2   Occupation                100000 non-null  int64  \n",
            " 3   Annual_Income             100000 non-null  object \n",
            " 4   Monthly_Inhand_Salary     84998 non-null   object \n",
            " 5   Num_Bank_Accounts         100000 non-null  object \n",
            " 6   Num_Credit_Card           100000 non-null  object \n",
            " 7   Interest_Rate             100000 non-null  object \n",
            " 8   Num_of_Loan               100000 non-null  object \n",
            " 9   Delay_from_due_date       100000 non-null  object \n",
            " 10  Num_of_Delayed_Payment    92998 non-null   object \n",
            " 11  Changed_Credit_Limit      97909 non-null   object \n",
            " 12  Num_Credit_Inquiries      98035 non-null   object \n",
            " 13  Credit_Mix                100000 non-null  int64  \n",
            " 14  Outstanding_Debt          100000 non-null  object \n",
            " 15  Credit_Utilization_Ratio  100000 non-null  object \n",
            " 16  Credit_History_Age        90970 non-null   float64\n",
            " 17  Payment_of_Min_Amount     100000 non-null  object \n",
            " 18  Total_EMI_per_month       100000 non-null  object \n",
            " 19  Amount_invested_monthly   95521 non-null   object \n",
            " 20  Payment_Behaviour         100000 non-null  int64  \n",
            " 21  Monthly_Balance           98800 non-null   object \n",
            " 22  Credit_Score              100000 non-null  object \n",
            " 23                            100000 non-null  int64  \n",
            " 24  Auto Loan                 100000 non-null  int64  \n",
            " 25  CreditBuilder Loan        100000 non-null  int64  \n",
            " 26  Debt Consolidation Loan   100000 non-null  int64  \n",
            " 27  Home Equity Loan          100000 non-null  int64  \n",
            " 28  Mortgage Loan             100000 non-null  int64  \n",
            " 29  Not Specified             100000 non-null  int64  \n",
            " 30  Payday Loan               100000 non-null  int64  \n",
            " 31  Personal Loan             100000 non-null  int64  \n",
            " 32  Student Loan              100000 non-null  int64  \n",
            "dtypes: float64(1), int64(14), object(18)\n",
            "memory usage: 25.2+ MB\n"
          ]
        }
      ]
    },
    {
      "cell_type": "markdown",
      "source": [
        "Zmien inne zmienne na numeryczne"
      ],
      "metadata": {
        "id": "BIZ0jlOkNUr7"
      }
    },
    {
      "cell_type": "markdown",
      "source": [
        "Uzupełnij braki w kolumnie Monthly_Inhand_Salary,  Annual_Income, .. średnią"
      ],
      "metadata": {
        "id": "iEaaedrkZazE"
      }
    },
    {
      "cell_type": "code",
      "source": [],
      "metadata": {
        "id": "fsqzLQJoluEC"
      },
      "execution_count": null,
      "outputs": []
    },
    {
      "cell_type": "markdown",
      "source": [
        "Narysuj rozkłady zmiennych 'Annual_Income', 'Monthly_Balance'"
      ],
      "metadata": {
        "id": "tDsQgHwDaPIy"
      }
    },
    {
      "cell_type": "code",
      "source": [],
      "metadata": {
        "id": "VDiN9dtkl2qz"
      },
      "execution_count": null,
      "outputs": []
    },
    {
      "cell_type": "markdown",
      "source": [
        "usuń wartości odstające (w przypadku wieku wszystkie ujemne i te powyzej 100 lat)"
      ],
      "metadata": {
        "id": "BNJ-R8r6gPVs"
      }
    },
    {
      "cell_type": "code",
      "source": [
        "df['Age'] = df['Age'].astype(int)\n",
        "df[\"Age\"] = df[\"Age\"].apply(lambda x: np.nan if x < 0 or x > 100 else x)\n",
        "df[\"Age\"]"
      ],
      "metadata": {
        "id": "N3MhaQ9_l2-G",
        "colab": {
          "base_uri": "https://localhost:8080/",
          "height": 458
        },
        "outputId": "b933f8a1-178b-4076-9d72-3c44ff3f9cce"
      },
      "execution_count": 151,
      "outputs": [
        {
          "output_type": "execute_result",
          "data": {
            "text/plain": [
              "0        23.0\n",
              "1        23.0\n",
              "2         NaN\n",
              "3        23.0\n",
              "4        23.0\n",
              "         ... \n",
              "99995    25.0\n",
              "99996    25.0\n",
              "99997    25.0\n",
              "99998    25.0\n",
              "99999    25.0\n",
              "Name: Age, Length: 100000, dtype: float64"
            ],
            "text/html": [
              "<div>\n",
              "<style scoped>\n",
              "    .dataframe tbody tr th:only-of-type {\n",
              "        vertical-align: middle;\n",
              "    }\n",
              "\n",
              "    .dataframe tbody tr th {\n",
              "        vertical-align: top;\n",
              "    }\n",
              "\n",
              "    .dataframe thead th {\n",
              "        text-align: right;\n",
              "    }\n",
              "</style>\n",
              "<table border=\"1\" class=\"dataframe\">\n",
              "  <thead>\n",
              "    <tr style=\"text-align: right;\">\n",
              "      <th></th>\n",
              "      <th>Age</th>\n",
              "    </tr>\n",
              "  </thead>\n",
              "  <tbody>\n",
              "    <tr>\n",
              "      <th>0</th>\n",
              "      <td>23.0</td>\n",
              "    </tr>\n",
              "    <tr>\n",
              "      <th>1</th>\n",
              "      <td>23.0</td>\n",
              "    </tr>\n",
              "    <tr>\n",
              "      <th>2</th>\n",
              "      <td>NaN</td>\n",
              "    </tr>\n",
              "    <tr>\n",
              "      <th>3</th>\n",
              "      <td>23.0</td>\n",
              "    </tr>\n",
              "    <tr>\n",
              "      <th>4</th>\n",
              "      <td>23.0</td>\n",
              "    </tr>\n",
              "    <tr>\n",
              "      <th>...</th>\n",
              "      <td>...</td>\n",
              "    </tr>\n",
              "    <tr>\n",
              "      <th>99995</th>\n",
              "      <td>25.0</td>\n",
              "    </tr>\n",
              "    <tr>\n",
              "      <th>99996</th>\n",
              "      <td>25.0</td>\n",
              "    </tr>\n",
              "    <tr>\n",
              "      <th>99997</th>\n",
              "      <td>25.0</td>\n",
              "    </tr>\n",
              "    <tr>\n",
              "      <th>99998</th>\n",
              "      <td>25.0</td>\n",
              "    </tr>\n",
              "    <tr>\n",
              "      <th>99999</th>\n",
              "      <td>25.0</td>\n",
              "    </tr>\n",
              "  </tbody>\n",
              "</table>\n",
              "<p>100000 rows × 1 columns</p>\n",
              "</div><br><label><b>dtype:</b> float64</label>"
            ]
          },
          "metadata": {},
          "execution_count": 151
        }
      ]
    },
    {
      "cell_type": "markdown",
      "source": [
        "Zwizualizuj korelacje między zmiennymi"
      ],
      "metadata": {
        "id": "nPMd_OGqgHhL"
      }
    },
    {
      "cell_type": "code",
      "source": [],
      "metadata": {
        "id": "ScSHId1Sl-z5"
      },
      "execution_count": null,
      "outputs": []
    }
  ]
}